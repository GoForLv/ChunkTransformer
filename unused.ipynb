{
 "cells": [
  {
   "cell_type": "code",
   "execution_count": 25,
   "metadata": {},
   "outputs": [
    {
     "data": {
      "text/plain": [
       "(tensor([[ 0,  1,  2,  3,  4,  5,  6,  7],\n",
       "         [ 8,  9, 10, 11, 12, 13, 14, 15],\n",
       "         [16, 17, 18, 19, 20, 21, 22, 23],\n",
       "         [24, 25, 26, 27, 28, 29, 30, 31],\n",
       "         [32, 33, 34, 35, 36, 37, 38, 39],\n",
       "         [40, 41, 42, 43, 44, 45, 46, 47],\n",
       "         [48, 49, 50, 51, 52, 53, 54, 55],\n",
       "         [56, 57, 58, 59, 60, 61, 62, 63]]),\n",
       " tensor([[   8,    9,    0,    0,    0,    0,    0,    0],\n",
       "         [  72,   89,    0,    0,    0,    0,    0,    0],\n",
       "         [   0,    0,  818,  855,    0,    0,    0,    0],\n",
       "         [   0,    0, 1170, 1223,    0,    0,    0,    0],\n",
       "         [   0,    0,    0,    0, 2924, 2997,    0,    0],\n",
       "         [   0,    0,    0,    0, 3564, 3653,    0,    0],\n",
       "         [   0,    0,    0,    0,    0,    0, 6326, 6435],\n",
       "         [   0,    0,    0,    0,    0,    0, 7254, 7379]]))"
      ]
     },
     "execution_count": 25,
     "metadata": {},
     "output_type": "execute_result"
    }
   ],
   "source": [
    "d_chunk = 2\n",
    "d_model = 8\n",
    "for i in range(0, d_model, d_chunk):\n",
    "    z[i:i+d_chunk:, i:i+d_chunk:] = torch.matmul(y[i:i+d_chunk:, i:i+d_chunk:], y[i:i+d_chunk:, i:i+d_chunk:])\n",
    "y, z"
   ]
  },
  {
   "cell_type": "code",
   "execution_count": 10,
   "metadata": {},
   "outputs": [
    {
     "data": {
      "text/plain": [
       "(tensor([[ 0.,  1.],\n",
       "         [ 2.,  3.],\n",
       "         [ 4.,  5.],\n",
       "         [ 6.,  7.],\n",
       "         [ 8.,  9.],\n",
       "         [10., 11.]]),\n",
       " tensor([[ 0.,  1.],\n",
       "         [ 2.,  3.],\n",
       "         [ 4.,  5.],\n",
       "         [ 6.,  7.],\n",
       "         [ 8.,  9.],\n",
       "         [10., 11.]]))"
      ]
     },
     "execution_count": 10,
     "metadata": {},
     "output_type": "execute_result"
    }
   ],
   "source": [
    "import torch\n",
    "seq_len = 6\n",
    "d_k = 2\n",
    "# seq_len, d_k: 6*2\n",
    "a = torch.arange(12, dtype=torch.float).reshape(seq_len, d_k)\n",
    "b = torch.arange(12, dtype=torch.float).reshape(seq_len, d_k)\n",
    "a, b"
   ]
  },
  {
   "cell_type": "code",
   "execution_count": 11,
   "metadata": {},
   "outputs": [
    {
     "data": {
      "text/plain": [
       "(tensor([[[ 0.,  1.],\n",
       "          [ 2.,  3.],\n",
       "          [ 4.,  5.]],\n",
       " \n",
       "         [[ 6.,  7.],\n",
       "          [ 8.,  9.],\n",
       "          [10., 11.]]]),\n",
       " tensor([[[ 0.,  1.],\n",
       "          [ 2.,  3.],\n",
       "          [ 4.,  5.]],\n",
       " \n",
       "         [[ 6.,  7.],\n",
       "          [ 8.,  9.],\n",
       "          [10., 11.]]]))"
      ]
     },
     "execution_count": 11,
     "metadata": {},
     "output_type": "execute_result"
    }
   ],
   "source": [
    "d_chunk = 3\n",
    "# nchunk, d_chunk, d_k: 2*3*2\n",
    "a = a.view(-1, d_chunk, d_k)\n",
    "b = b.view(-1, d_chunk, d_k)\n",
    "a, b"
   ]
  },
  {
   "cell_type": "code",
   "execution_count": 12,
   "metadata": {},
   "outputs": [
    {
     "data": {
      "text/plain": [
       "(tensor([[[ 0.,  1.],\n",
       "          [ 2.,  3.],\n",
       "          [ 4.,  5.]],\n",
       " \n",
       "         [[ 6.,  7.],\n",
       "          [ 8.,  9.],\n",
       "          [10., 11.]]]),\n",
       " tensor([[[ 0.,  2.,  4.],\n",
       "          [ 1.,  3.,  5.]],\n",
       " \n",
       "         [[ 6.,  8., 10.],\n",
       "          [ 7.,  9., 11.]]]),\n",
       " tensor([[[  1.,   3.,   5.],\n",
       "          [  3.,  13.,  23.],\n",
       "          [  5.,  23.,  41.]],\n",
       " \n",
       "         [[ 85., 111., 137.],\n",
       "          [111., 145., 179.],\n",
       "          [137., 179., 221.]]]))"
      ]
     },
     "execution_count": 12,
     "metadata": {},
     "output_type": "execute_result"
    }
   ],
   "source": [
    "# 2*3*2 @ 2*2*3 = 2*(3*3)\n",
    "b = b.transpose(-1, -2)\n",
    "dot = torch.matmul(a, b)\n",
    "a, b, dot"
   ]
  },
  {
   "cell_type": "code",
   "execution_count": 13,
   "metadata": {},
   "outputs": [
    {
     "data": {
      "text/plain": [
       "tensor([[[1.5876e-02, 1.1731e-01, 8.6681e-01],\n",
       "         [2.0611e-09, 4.5398e-05, 9.9995e-01],\n",
       "         [2.3195e-16, 1.5230e-08, 1.0000e+00]],\n",
       "\n",
       "        [[2.6103e-23, 5.1091e-12, 1.0000e+00],\n",
       "         [2.9375e-30, 1.7139e-15, 1.0000e+00],\n",
       "         [3.3057e-37, 5.7495e-19, 1.0000e+00]]])"
      ]
     },
     "execution_count": 13,
     "metadata": {},
     "output_type": "execute_result"
    }
   ],
   "source": [
    "attn = torch.softmax(dot, dim=-1)\n",
    "attn"
   ]
  },
  {
   "cell_type": "code",
   "execution_count": 11,
   "metadata": {},
   "outputs": [
    {
     "data": {
      "text/plain": [
       "(tensor([[ True,  True, False],\n",
       "         [ True,  True,  True],\n",
       "         [False,  True,  True]]),\n",
       " tensor([[[[99, 99,  2],\n",
       "           [99, 99, 99],\n",
       "           [ 6, 99, 99]],\n",
       " \n",
       "          [[99, 99, 11],\n",
       "           [99, 99, 99],\n",
       "           [15, 99, 99]]],\n",
       " \n",
       " \n",
       "         [[[99, 99, 20],\n",
       "           [99, 99, 99],\n",
       "           [24, 99, 99]],\n",
       " \n",
       "          [[99, 99, 29],\n",
       "           [99, 99, 99],\n",
       "           [33, 99, 99]]]]))"
      ]
     },
     "execution_count": 11,
     "metadata": {},
     "output_type": "execute_result"
    }
   ],
   "source": [
    "import torch\n",
    "max_len = 3\n",
    "stride = 1\n",
    "mask = torch.zeros(max_len, max_len, dtype=torch.bool)\n",
    "for i in range(max_len):\n",
    "    start = max(0, i - stride)\n",
    "    end = min(max_len, i + stride + 1)\n",
    "    mask[i, start:end] = True\n",
    "mask\n",
    "\n",
    "x = torch.arange(36).reshape(2, 2, 3, 3)\n",
    "x.masked_fill_(mask, 99)\n",
    "mask, x"
   ]
  },
  {
   "cell_type": "code",
   "execution_count": 22,
   "metadata": {},
   "outputs": [
    {
     "data": {
      "text/plain": [
       "torch.int64"
      ]
     },
     "execution_count": 22,
     "metadata": {},
     "output_type": "execute_result"
    }
   ],
   "source": [
    "import torch\n",
    "idx = torch.tensor([0, 1, 0 ,1])\n",
    "y = torch.arange(0, 36).reshape(4, 3, 3)\n",
    "y, y[idx]\n",
    "a = torch.tensor([0., 1., 0. ,1., 0, 0, 1, 1])\n",
    "torch.where(a == 1)[0].dtype"
   ]
  },
  {
   "cell_type": "code",
   "execution_count": 5,
   "metadata": {},
   "outputs": [
    {
     "data": {
      "text/plain": [
       "tensor([[ True, False, False, False, False],\n",
       "        [ True,  True, False, False, False],\n",
       "        [ True,  True,  True, False, False],\n",
       "        [ True,  True,  True,  True, False],\n",
       "        [ True,  True,  True,  True,  True]])"
      ]
     },
     "execution_count": 5,
     "metadata": {},
     "output_type": "execute_result"
    }
   ],
   "source": [
    "import torch\n",
    "seq_len = 5\n",
    "causal_mask = torch.triu(torch.ones(seq_len, seq_len, dtype=torch.bool), diagonal=1)\n",
    "~causal_mask"
   ]
  },
  {
   "cell_type": "code",
   "execution_count": 2,
   "metadata": {},
   "outputs": [
    {
     "data": {
      "text/plain": [
       "tensor([[ True,  True, False, False, False, False, False, False],\n",
       "        [ True,  True, False, False, False, False, False, False],\n",
       "        [False, False,  True,  True, False, False, False, False],\n",
       "        [False, False,  True,  True, False, False, False, False],\n",
       "        [False, False, False, False,  True,  True, False, False],\n",
       "        [False, False, False, False,  True,  True, False, False],\n",
       "        [False, False, False, False, False, False,  True,  True],\n",
       "        [False, False, False, False, False, False,  True,  True]])"
      ]
     },
     "execution_count": 2,
     "metadata": {},
     "output_type": "execute_result"
    }
   ],
   "source": [
    "import torch\n",
    "max_len = 8\n",
    "d_model = 8\n",
    "d_chunk = 2\n",
    "mask = torch.zeros(max_len, max_len, dtype=torch.bool)\n",
    "for i in range(0, d_model, d_chunk):\n",
    "    mask[i:i+d_chunk, i:i+d_chunk] = True\n",
    "mask"
   ]
  }
 ],
 "metadata": {
  "kernelspec": {
   "display_name": "Python 3",
   "language": "python",
   "name": "python3"
  },
  "language_info": {
   "codemirror_mode": {
    "name": "ipython",
    "version": 3
   },
   "file_extension": ".py",
   "mimetype": "text/x-python",
   "name": "python",
   "nbconvert_exporter": "python",
   "pygments_lexer": "ipython3",
   "version": "3.12.1"
  }
 },
 "nbformat": 4,
 "nbformat_minor": 2
}
